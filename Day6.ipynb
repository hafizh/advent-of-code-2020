{
 "cells": [
  {
   "cell_type": "markdown",
   "metadata": {},
   "source": [
    "### Part 1"
   ]
  },
  {
   "cell_type": "code",
   "execution_count": 97,
   "metadata": {},
   "outputs": [],
   "source": [
    "import re"
   ]
  },
  {
   "cell_type": "code",
   "execution_count": 129,
   "metadata": {},
   "outputs": [],
   "source": [
    "split_p = re.compile(r'\\n')\n",
    "with open('data/day6.txt') as f: \n",
    "    groups = [split_p.split(group) for group in f.read().split('\\n\\n')]"
   ]
  },
  {
   "cell_type": "code",
   "execution_count": 136,
   "metadata": {},
   "outputs": [
    {
     "name": "stdout",
     "output_type": "stream",
     "text": [
      "Result: 7120\n"
     ]
    }
   ],
   "source": [
    "def answered_by_anyone(grs):\n",
    "    total = 0\n",
    "    for group in groups:\n",
    "        total = total + len(set(\"\".join(group)))\n",
    "    return total\n",
    "\n",
    "print(f\"Result: {answered_by_anyone(groups)}\")"
   ]
  },
  {
   "cell_type": "markdown",
   "metadata": {},
   "source": [
    "### Part 2"
   ]
  },
  {
   "cell_type": "code",
   "execution_count": 139,
   "metadata": {},
   "outputs": [
    {
     "name": "stdout",
     "output_type": "stream",
     "text": [
      "Result: 3570\n"
     ]
    }
   ],
   "source": [
    "def answered_by_all(grs):\n",
    "    total = 0\n",
    "    for group in grs:\n",
    "        answers = [set(answer) for answer in group if len(answer) > 0]\n",
    "        by_all = set.intersection(*answers)\n",
    "        total = total + len(by_all)\n",
    "    return total\n",
    "\n",
    "print(f\"Result: {answered_by_all(groups)}\")"
   ]
  },
  {
   "cell_type": "code",
   "execution_count": null,
   "metadata": {},
   "outputs": [],
   "source": []
  }
 ],
 "metadata": {
  "kernelspec": {
   "display_name": "Python 3",
   "language": "python",
   "name": "python3"
  },
  "language_info": {
   "codemirror_mode": {
    "name": "ipython",
    "version": 3
   },
   "file_extension": ".py",
   "mimetype": "text/x-python",
   "name": "python",
   "nbconvert_exporter": "python",
   "pygments_lexer": "ipython3",
   "version": "3.8.5"
  }
 },
 "nbformat": 4,
 "nbformat_minor": 4
}
