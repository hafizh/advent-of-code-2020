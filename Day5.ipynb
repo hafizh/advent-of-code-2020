{
 "cells": [
  {
   "cell_type": "markdown",
   "metadata": {},
   "source": [
    "### Part 1"
   ]
  },
  {
   "cell_type": "code",
   "execution_count": 2,
   "metadata": {},
   "outputs": [],
   "source": [
    "with open('data/day5.txt') as f: \n",
    "    passes = []\n",
    "    for l in f:\n",
    "        line = l.strip()\n",
    "        passes.append(line)"
   ]
  },
  {
   "cell_type": "code",
   "execution_count": 33,
   "metadata": {},
   "outputs": [],
   "source": [
    "def find_seat(bpass):\n",
    "    def do_find(p, low, high, left, right):\n",
    "        if len(p) == 0:\n",
    "            return (low, left)\n",
    "        mid_r = round((low + high) / 2)\n",
    "        mid_s = round((left + right) / 2)\n",
    "        if p[0] == 'F':\n",
    "            return do_find(p[1:], low, mid_r, left, right)\n",
    "        elif p[0] == 'B':\n",
    "            return do_find(p[1:], mid_r, high, left, right)\n",
    "        elif p[0] == 'L':\n",
    "            return do_find(p[1:], low, high, left, mid_s)\n",
    "        else:\n",
    "            return do_find(p[1:], low, high, mid_s, right)\n",
    "    return do_find(bpass, 0, 127, 0, 7)"
   ]
  },
  {
   "cell_type": "code",
   "execution_count": 35,
   "metadata": {},
   "outputs": [
    {
     "name": "stdout",
     "output_type": "stream",
     "text": [
      "Result: 963\n"
     ]
    }
   ],
   "source": [
    "max_id = 0\n",
    "for bpass in passes:\n",
    "    row, seat = find_seat(bpass)\n",
    "    seat_id = row * 8 + seat\n",
    "    if max_id < seat_id:\n",
    "        max_id = seat_id\n",
    "\n",
    "print(f\"Result: {max_id}\")"
   ]
  },
  {
   "cell_type": "markdown",
   "metadata": {},
   "source": [
    "### Part 2"
   ]
  },
  {
   "cell_type": "code",
   "execution_count": null,
   "metadata": {},
   "outputs": [],
   "source": []
  }
 ],
 "metadata": {
  "kernelspec": {
   "display_name": "Python 3",
   "language": "python",
   "name": "python3"
  },
  "language_info": {
   "codemirror_mode": {
    "name": "ipython",
    "version": 3
   },
   "file_extension": ".py",
   "mimetype": "text/x-python",
   "name": "python",
   "nbconvert_exporter": "python",
   "pygments_lexer": "ipython3",
   "version": "3.8.5"
  }
 },
 "nbformat": 4,
 "nbformat_minor": 4
}
