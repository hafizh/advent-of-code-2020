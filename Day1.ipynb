{
 "cells": [
  {
   "cell_type": "markdown",
   "metadata": {},
   "source": [
    "### Part 1"
   ]
  },
  {
   "cell_type": "code",
   "execution_count": 28,
   "metadata": {},
   "outputs": [],
   "source": [
    "expenses = [] \n",
    "with open(\"data/day1.txt\") as f:\n",
    "    for line in f:\n",
    "        expenses.append(int(line))"
   ]
  },
  {
   "cell_type": "code",
   "execution_count": 29,
   "metadata": {},
   "outputs": [
    {
     "name": "stdout",
     "output_type": "stream",
     "text": [
      "1535 + 485 = 2020\n",
      "Result: 744475\n"
     ]
    }
   ],
   "source": [
    "for (i, e1) in enumerate(expenses): \n",
    "    for e2 in expenses[i+1:-1]:\n",
    "        if e1 + e2 == 2020:\n",
    "            print(f\"{e1} + {e2} = 2020\")\n",
    "            print(f\"Result: {e1 * e2}\") "
   ]
  },
  {
   "cell_type": "markdown",
   "metadata": {},
   "source": [
    "### Part 2"
   ]
  },
  {
   "cell_type": "code",
   "execution_count": 34,
   "metadata": {},
   "outputs": [],
   "source": [
    "import itertools"
   ]
  },
  {
   "cell_type": "code",
   "execution_count": 35,
   "metadata": {},
   "outputs": [],
   "source": [
    "sorted_expenses = sorted(expenses, reverse=True)"
   ]
  },
  {
   "cell_type": "code",
   "execution_count": 36,
   "metadata": {},
   "outputs": [
    {
     "name": "stdout",
     "output_type": "stream",
     "text": [
      "1588 + 265 + 167 == 2020\n",
      "Result: 70276940\n"
     ]
    }
   ],
   "source": [
    "for a, b, c in itertools.combinations(sorted_expenses, 3):\n",
    "    if a + b + c == 2020:\n",
    "        print(f\"{a} + {b} + {c} == 2020\")\n",
    "        print(f\"Result: {a * b * c}\")"
   ]
  }
 ],
 "metadata": {
  "kernelspec": {
   "display_name": "Python 3",
   "language": "python",
   "name": "python3"
  },
  "language_info": {
   "codemirror_mode": {
    "name": "ipython",
    "version": 3
   },
   "file_extension": ".py",
   "mimetype": "text/x-python",
   "name": "python",
   "nbconvert_exporter": "python",
   "pygments_lexer": "ipython3",
   "version": "3.7.3"
  }
 },
 "nbformat": 4,
 "nbformat_minor": 4
}
