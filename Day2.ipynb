{
 "cells": [
  {
   "cell_type": "markdown",
   "metadata": {},
   "source": [
    "### Part 1"
   ]
  },
  {
   "cell_type": "code",
   "execution_count": 3,
   "metadata": {},
   "outputs": [],
   "source": [
    "import re"
   ]
  },
  {
   "cell_type": "code",
   "execution_count": 30,
   "metadata": {},
   "outputs": [
    {
     "name": "stdout",
     "output_type": "stream",
     "text": [
      "Result: 414\n"
     ]
    }
   ],
   "source": [
    "pattern = re.compile(r'(\\d*)-(\\d*) ([a-z]): ([a-z]+)')\n",
    "policies = []\n",
    "with open(\"data/day2.txt\") as f:\n",
    "    valid = 0\n",
    "    for line in f:\n",
    "        m = pattern.match(line)\n",
    "        if m:\n",
    "            policy = {\n",
    "                'min': int(m.group(1)),\n",
    "                'max': int(m.group(2)),\n",
    "                'letter': m.group(3),\n",
    "                'password': m.group(4)\n",
    "            }\n",
    "            policies.append(policy)\n",
    "            count = policy['password'].count(policy['letter'])\n",
    "            if policy['min'] <= count and count <= policy['max']:\n",
    "                valid = valid + 1\n",
    "#             else:\n",
    "#                 print(f\"{policy['min']} - {policy['max']} {policy['letter']}: {policy['password']}\")\n",
    "    print(f\"Result: {valid}\")        "
   ]
  },
  {
   "cell_type": "markdown",
   "metadata": {},
   "source": [
    "### Part 2"
   ]
  },
  {
   "cell_type": "code",
   "execution_count": 41,
   "metadata": {},
   "outputs": [
    {
     "name": "stdout",
     "output_type": "stream",
     "text": [
      "Result:413\n"
     ]
    }
   ],
   "source": [
    "valid = 0\n",
    "for policy in policies:\n",
    "    password = policy['password']\n",
    "    pos1 = password[policy['min'] - 1] == policy['letter']\n",
    "    pos2 = password[policy['max'] - 1] == policy['letter']\n",
    "    if sum([pos1, pos2]) == 1:\n",
    "        valid = valid + 1\n",
    "#     else:\n",
    "#         print(f\"{policy['min']} - {policy['max']} {policy['letter']}: {policy['password']}\")\n",
    "print(f\"Result:{valid}\")\n",
    "        "
   ]
  }
 ],
 "metadata": {
  "kernelspec": {
   "display_name": "Python 3",
   "language": "python",
   "name": "python3"
  },
  "language_info": {
   "codemirror_mode": {
    "name": "ipython",
    "version": 3
   },
   "file_extension": ".py",
   "mimetype": "text/x-python",
   "name": "python",
   "nbconvert_exporter": "python",
   "pygments_lexer": "ipython3",
   "version": "3.7.3"
  }
 },
 "nbformat": 4,
 "nbformat_minor": 4
}
