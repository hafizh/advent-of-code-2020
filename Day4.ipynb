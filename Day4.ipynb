{
 "cells": [
  {
   "cell_type": "code",
   "execution_count": 2,
   "metadata": {},
   "outputs": [
    {
     "name": "stdout",
     "output_type": "stream",
     "text": [
      "Collecting pandas\n",
      "  Using cached pandas-1.1.5-cp38-cp38-macosx_10_9_x86_64.whl (10.1 MB)\n",
      "Requirement already satisfied: python-dateutil>=2.7.3 in /Users/hhasanov/.pyenv/versions/3.8.5/envs/advent2020/lib/python3.8/site-packages (from pandas) (2.8.1)\n",
      "Collecting pytz>=2017.2\n",
      "  Using cached pytz-2020.4-py2.py3-none-any.whl (509 kB)\n",
      "Collecting numpy>=1.15.4\n",
      "  Using cached numpy-1.19.4-cp38-cp38-macosx_10_9_x86_64.whl (15.3 MB)\n",
      "Requirement already satisfied: six>=1.5 in /Users/hhasanov/.pyenv/versions/3.8.5/envs/advent2020/lib/python3.8/site-packages (from python-dateutil>=2.7.3->pandas) (1.15.0)\n",
      "Installing collected packages: pytz, numpy, pandas\n",
      "Successfully installed numpy-1.19.4 pandas-1.1.5 pytz-2020.4\n",
      "\u001b[33mWARNING: You are using pip version 20.1.1; however, version 20.3.1 is available.\n",
      "You should consider upgrading via the '/Users/hhasanov/.pyenv/versions/3.8.5/envs/advent2020/bin/python3.8 -m pip install --upgrade pip' command.\u001b[0m\n",
      "Note: you may need to restart the kernel to use updated packages.\n"
     ]
    }
   ],
   "source": [
    "pip install pandas"
   ]
  },
  {
   "cell_type": "code",
   "execution_count": 13,
   "metadata": {},
   "outputs": [],
   "source": [
    "import pandas as pd\n",
    "import re"
   ]
  },
  {
   "cell_type": "markdown",
   "metadata": {},
   "source": [
    "### Part 1"
   ]
  },
  {
   "cell_type": "code",
   "execution_count": 170,
   "metadata": {},
   "outputs": [],
   "source": [
    "split_p = re.compile(r'\\n| ')\n",
    "with open('data/day4.txt') as f: \n",
    "    rows = [split_p.split(row) for row in f.read().split('\\n\\n')]"
   ]
  },
  {
   "cell_type": "code",
   "execution_count": 171,
   "metadata": {},
   "outputs": [],
   "source": [
    "key_value_p = re.compile(r'([a-z]{3}):(.*)')\n",
    "def to_dict(row):\n",
    "    columns = dict()\n",
    "    for column in row:\n",
    "        m = key_value_p.match(column)\n",
    "        if m:         \n",
    "            columns[m.group(1)] = m.group(2)\n",
    "    return columns\n",
    "\n",
    "data = [to_dict(row) for row in rows]"
   ]
  },
  {
   "cell_type": "code",
   "execution_count": 250,
   "metadata": {},
   "outputs": [],
   "source": [
    "df = pd.DataFrame(data)\n",
    "df['cid'] = df.cid.fillna('***')\n",
    "df = df.dropna().reset_index(drop=True)"
   ]
  },
  {
   "cell_type": "code",
   "execution_count": 251,
   "metadata": {},
   "outputs": [
    {
     "name": "stdout",
     "output_type": "stream",
     "text": [
      "Result: 202\n"
     ]
    }
   ],
   "source": [
    "print(f\"Result: {df.count().pid}\")"
   ]
  },
  {
   "cell_type": "markdown",
   "metadata": {},
   "source": [
    "### Part  2"
   ]
  },
  {
   "cell_type": "code",
   "execution_count": 288,
   "metadata": {},
   "outputs": [],
   "source": [
    "df2 = df"
   ]
  },
  {
   "cell_type": "code",
   "execution_count": 289,
   "metadata": {},
   "outputs": [
    {
     "data": {
      "text/plain": [
       "170"
      ]
     },
     "execution_count": 289,
     "metadata": {},
     "output_type": "execute_result"
    }
   ],
   "source": [
    "byr_valid = (1920 <= df2.byr.astype(int)) & (df2.byr.astype(int) <= 2002)\n",
    "df2 = df2[byr_valid]\n",
    "df2.count().pid"
   ]
  },
  {
   "cell_type": "code",
   "execution_count": 290,
   "metadata": {},
   "outputs": [
    {
     "data": {
      "text/plain": [
       "158"
      ]
     },
     "execution_count": 290,
     "metadata": {},
     "output_type": "execute_result"
    }
   ],
   "source": [
    "iyr_valid = (2010 <= df2.iyr.astype(int)) & (df2.iyr.astype(int) <= 2020)\n",
    "df2 = df2[iyr_valid]\n",
    "df2.count().pid"
   ]
  },
  {
   "cell_type": "code",
   "execution_count": 291,
   "metadata": {},
   "outputs": [
    {
     "data": {
      "text/plain": [
       "151"
      ]
     },
     "execution_count": 291,
     "metadata": {},
     "output_type": "execute_result"
    }
   ],
   "source": [
    "eyr_valid = (2020 <= df2.eyr.astype(int)) & (df2.eyr.astype(int) <= 2030)\n",
    "df2 = df2[eyr_valid]\n",
    "df2.count().pid"
   ]
  },
  {
   "cell_type": "code",
   "execution_count": 292,
   "metadata": {},
   "outputs": [],
   "source": [
    "hgt_p = re.compile(r'(\\d+)(cm|in)+')\n",
    "def hgt_normal(h):\n",
    "    m = hgt_p.match(h)\n",
    "    if m:\n",
    "        if m.group(2) == 'in':\n",
    "            return round(int(m.group(1)) * 2.54)\n",
    "        else:\n",
    "            return int(m.group(1))"
   ]
  },
  {
   "cell_type": "code",
   "execution_count": 293,
   "metadata": {},
   "outputs": [],
   "source": [
    "df2['hgt_cm'] = df2.hgt.map(hgt_normal)"
   ]
  },
  {
   "cell_type": "code",
   "execution_count": 294,
   "metadata": {},
   "outputs": [
    {
     "data": {
      "text/plain": [
       "147"
      ]
     },
     "execution_count": 294,
     "metadata": {},
     "output_type": "execute_result"
    }
   ],
   "source": [
    "hgt_valid = ((150 <= df2.hgt_cm) & (df2.hgt_cm <= 193))\n",
    "df2 = df2[hgt_valid]\n",
    "df2.count().pid"
   ]
  },
  {
   "cell_type": "code",
   "execution_count": 295,
   "metadata": {},
   "outputs": [
    {
     "data": {
      "text/plain": [
       "143"
      ]
     },
     "execution_count": 295,
     "metadata": {},
     "output_type": "execute_result"
    }
   ],
   "source": [
    "df2 = df2[df2.hcl.str.fullmatch('#[a-f0-9]{6}')]\n",
    "df2.count().pid"
   ]
  },
  {
   "cell_type": "code",
   "execution_count": 296,
   "metadata": {},
   "outputs": [
    {
     "data": {
      "text/plain": [
       "141"
      ]
     },
     "execution_count": 296,
     "metadata": {},
     "output_type": "execute_result"
    }
   ],
   "source": [
    "ecl_p = re.compile(r'^(amb|blu|brn|gry|grn|hzl|oth)$')\n",
    "df2 = df2[df2.ecl.str.fullmatch(ecl_p)]\n",
    "df2.count().pid"
   ]
  },
  {
   "cell_type": "code",
   "execution_count": 297,
   "metadata": {},
   "outputs": [
    {
     "data": {
      "text/plain": [
       "137"
      ]
     },
     "execution_count": 297,
     "metadata": {},
     "output_type": "execute_result"
    }
   ],
   "source": [
    "pid_p = re.compile(r'^[0-9]{9}$')\n",
    "df2 = df2[df2.pid.str.fullmatch(pid_p)]\n",
    "df2.count().pid"
   ]
  },
  {
   "cell_type": "code",
   "execution_count": null,
   "metadata": {},
   "outputs": [],
   "source": []
  }
 ],
 "metadata": {
  "kernelspec": {
   "display_name": "Python 3",
   "language": "python",
   "name": "python3"
  },
  "language_info": {
   "codemirror_mode": {
    "name": "ipython",
    "version": 3
   },
   "file_extension": ".py",
   "mimetype": "text/x-python",
   "name": "python",
   "nbconvert_exporter": "python",
   "pygments_lexer": "ipython3",
   "version": "3.8.5"
  }
 },
 "nbformat": 4,
 "nbformat_minor": 4
}
