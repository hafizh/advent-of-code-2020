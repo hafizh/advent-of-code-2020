{
 "cells": [
  {
   "cell_type": "markdown",
   "metadata": {},
   "source": [
    "### Part 1"
   ]
  },
  {
   "cell_type": "code",
   "execution_count": 18,
   "metadata": {},
   "outputs": [],
   "source": [
    "with open('data/day3.txt') as f:\n",
    "    slopes = []\n",
    "    for l in f:\n",
    "        slopes.append(l.strip())"
   ]
  },
  {
   "cell_type": "code",
   "execution_count": 87,
   "metadata": {},
   "outputs": [
    {
     "name": "stdout",
     "output_type": "stream",
     "text": [
      "Result: 265\n"
     ]
    }
   ],
   "source": [
    "pos = 0\n",
    "count_trees = 0\n",
    "for line in slopes:\n",
    "    if line[pos] == '#':\n",
    "        count_trees = count_trees + 1\n",
    "    pos = abs((pos + 3) % len(line))\n",
    "print(f\"Result: {count_trees}\")"
   ]
  },
  {
   "cell_type": "markdown",
   "metadata": {},
   "source": [
    "### Part 2"
   ]
  },
  {
   "cell_type": "code",
   "execution_count": 83,
   "metadata": {},
   "outputs": [],
   "source": [
    "def count_trees(slopes, steps_right, steps_down):\n",
    "    x = y = count = 0\n",
    "    for yi, line in enumerate(slopes):\n",
    "        if y == yi:\n",
    "            if line[x] == '#':\n",
    "                count = count + 1\n",
    "            x = (x + steps_right) % len(line)\n",
    "            y = y + steps_down\n",
    "        \n",
    "        \n",
    "    return count"
   ]
  },
  {
   "cell_type": "code",
   "execution_count": 86,
   "metadata": {},
   "outputs": [
    {
     "data": {
      "text/plain": [
       "3154761400"
      ]
     },
     "execution_count": 86,
     "metadata": {},
     "output_type": "execute_result"
    }
   ],
   "source": [
    "count_trees(slopes, 1, 1) * count_trees(slopes, 3, 1) * count_trees(slopes, 5, 1) * count_trees(slopes, 7, 1) * count_trees(slopes, 1, 2)"
   ]
  },
  {
   "cell_type": "code",
   "execution_count": null,
   "metadata": {},
   "outputs": [],
   "source": []
  }
 ],
 "metadata": {
  "kernelspec": {
   "display_name": "Python 3",
   "language": "python",
   "name": "python3"
  },
  "language_info": {
   "codemirror_mode": {
    "name": "ipython",
    "version": 3
   },
   "file_extension": ".py",
   "mimetype": "text/x-python",
   "name": "python",
   "nbconvert_exporter": "python",
   "pygments_lexer": "ipython3",
   "version": "3.7.3"
  }
 },
 "nbformat": 4,
 "nbformat_minor": 4
}
